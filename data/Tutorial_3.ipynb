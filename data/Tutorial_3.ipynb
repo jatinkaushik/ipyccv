{
 "cells": [
  {
   "cell_type": "markdown",
   "metadata": {
    "collapsed": false
   },
   "source": [
    "# CLPS1520 Tutorial 3\n",
    "## Functions and topics covered in this tutorial: \n",
    "### `dealing with multidimensional arrays, indexing, subplot, magic, sum, rot90, fliplr, reshape`"
   ]
  },
  {
   "cell_type": "markdown",
   "metadata": {
    "collapsed": false
   },
   "source": [
    "Hi everybody, welcome to the third tutorial of CLPS 1520: Computational Vision.  My name is Denise, and today, we’ll be building on previous tutorials with basic computing concepts. We will also go over tips for completing this assignment.\n",
    "\n",
    "First, let’s talk about multidimensional arrays.  By now, you should have become familiar with one dimensional vectors, two dimensional arrays or matrixes with rows and columns (grayscale images for instance), and three dimensional arrays (color images for instance).  So far, it’s easy to visualize these arrays since we recognize the third dimension as color.  Below, I have read in ``saturn.png`` and shown the photo in one figure, then the photo’s RGB color channels in another figure.  You can just reference ``‘saturn.png’`` because it is one of Matlab’s builtin demo images. More demo images can be found in the ``‘\\toolbox\\images\\imdata`` directory."
   ]
  },
  {
   "cell_type": "code",
   "execution_count": null,
   "metadata": {
    "collapsed": false
   },
   "outputs": [],
   "source": [
    "planet = imresize(imread('saturn.png'), 0.2);\n",
    "figure(1)\n",
    "imshow(planet);\n",
    "figure(2)\n",
    "subplot(3,1,1);\n",
    "imshow(planet(:,:,1));\n",
    "subplot(3,1,2);\n",
    "imshow(planet(:,:,2));\n",
    "subplot(3,1,3);\n",
    "imshow(planet(:,:,3));"
   ]
  },
  {
   "cell_type": "markdown",
   "metadata": {},
   "source": [
    "We have thought about each color channel as a 2D sheet of information about the same image with the same height and width of the image.  In this example, the third dimension is color, something that we can easily comprehend.\n",
    "\n",
    "What if the third dimension is not color?  Think back to Tutorial 2's battery of filters ``LMFilters``.  Recall that loading ``LMFilters`` has created a data structure called ``F`` which holds all of the filters. "
   ]
  },
  {
   "cell_type": "code",
   "execution_count": 2,
   "metadata": {
    "collapsed": false
   },
   "outputs": [
    {
     "name": "stdout",
     "output_type": "stream",
     "text": [
      "\n",
      "ans =\n",
      "\n",
      "    49    49    48\n",
      "\n"
     ]
    }
   ],
   "source": [
    "load LMFilters;\n",
    "size(F)"
   ]
  },
  {
   "cell_type": "markdown",
   "metadata": {},
   "source": [
    "As you can see, ``F`` is a 3D array.  The only way that we can visualize this information is by using 2D slices and using the third dimension to indicate which slice you want.  You can try to use ``imshow()`` or ``imagesc()`` on ``F``, but Matlab will not recognize it as a photo.  Try indexing into ``F`` with ``(:,:,n)`` where ``n`` is any number corresponding to the slice you want from ``F`` and visualizing it with ``imagesc()``.  Afterwards, we'll get into working with arrays that have more dimensions than 3 using this same idea."
   ]
  },
  {
   "cell_type": "code",
   "execution_count": null,
   "metadata": {
    "collapsed": false
   },
   "outputs": [],
   "source": []
  },
  {
   "cell_type": "markdown",
   "metadata": {},
   "source": [
    "Wait, before we move on, the first figure with Saturn is pretty poorly laid out.  It’s quite long, and doesn’t really fit how our computer screens are usually oriented.  We can use the function ``subplot()`` to create multiple plots or images within one figure, which is what I’ve done to create this long figure.\n",
    "\n",
    "``subplot(m, n, p)`` divides the current figure into an ``m`` by ``n`` grid and creates an axes for a subplot in the position specified by ``p``. Matlab numbers its subplots by row, such that the first subplot is the first column of the first row, the second subplot is the second column of the first row, and so on.\n",
    "\n",
    "Try reconfiguring ``subplot()`` from the figure before to plot two rows and two columns to make our figure 2-by-2.  First, plot the original image, then the color channels, for a total of four plots."
   ]
  },
  {
   "cell_type": "code",
   "execution_count": null,
   "metadata": {
    "collapsed": false
   },
   "outputs": [],
   "source": []
  },
  {
   "cell_type": "markdown",
   "metadata": {},
   "source": [
    "Great!  Now let’s jump back to multidimensional thinking.\n",
    "\n",
    "In general, we are pretty bad at thinking in more than three dimensions.  Let’s try doing an exercise that will help us start thinking in six dimensions!\n",
    "\n",
    "A magic square is a square N-by-N matrix of consecutive numbers from 1 to N^2 that add up to the same number in every row, column, and diagonals.  A 3-by-3 magic square can be generated using ``magic()``."
   ]
  },
  {
   "cell_type": "code",
   "execution_count": 1,
   "metadata": {
    "collapsed": false
   },
   "outputs": [
    {
     "name": "stdout",
     "output_type": "stream",
     "text": [
      "\n",
      "magic_square =\n",
      "\n",
      "     8     1     6\n",
      "     3     5     7\n",
      "     4     9     2\n",
      "\n"
     ]
    }
   ],
   "source": [
    "magic_square = magic(3)"
   ]
  },
  {
   "cell_type": "markdown",
   "metadata": {},
   "source": [
    "Let’s make sure that Matlab gave us a real magic square.  Try summing along rows and columns using ``sum()`` with two arguments: the array and the dimension that you want to sum along."
   ]
  },
  {
   "cell_type": "code",
   "execution_count": null,
   "metadata": {
    "collapsed": false
   },
   "outputs": [],
   "source": [
    " "
   ]
  },
  {
   "cell_type": "markdown",
   "metadata": {},
   "source": [
    "We have summed each column and then summed each row, and Matlab tells us that they all add up to 15.  Try checking the diagonals now.  You can use the function ``diag()`` to get the elements along the main diagonal (top left to bottom right), then you can use ``sum()``."
   ]
  },
  {
   "cell_type": "code",
   "execution_count": null,
   "metadata": {
    "collapsed": false,
    "scrolled": true
   },
   "outputs": [],
   "source": []
  },
  {
   "cell_type": "markdown",
   "metadata": {},
   "source": [
    "It should add up to 15.  Well done, Matlab.\n",
    "\n",
    "How about the other diagonal?  Can you think of a way to find the sum of the other diagonal?  Hint: you may want to try manipulating the matrix itself.  Useful functions may include ``rot90()`` or ``fliplr()``."
   ]
  },
  {
   "cell_type": "code",
   "execution_count": null,
   "metadata": {
    "collapsed": false
   },
   "outputs": [],
   "source": []
  },
  {
   "cell_type": "markdown",
   "metadata": {},
   "source": [
    "Now let’s do something with this magic square.  Let’s put it in a ``black_box`` and see what comes out!"
   ]
  },
  {
   "cell_type": "code",
   "execution_count": null,
   "metadata": {
    "collapsed": false
   },
   "outputs": [],
   "source": [
    "black_box(magic_square,10,4,3,2)"
   ]
  },
  {
   "cell_type": "markdown",
   "metadata": {},
   "source": [
    "Evidently, there’s been some kind of transformation done to the numbers.  A closer look at the function ``black_box.m`` reveals what’s going on."
   ]
  },
  {
   "cell_type": "markdown",
   "metadata": {
    "collapsed": false
   },
   "source": [
    "``function [transform] = black_box(magic, add, subtract, multiply, divide)\n",
    "    transform = ((magic + add - subtract).*multiply)./divide;\n",
    "end``"
   ]
  },
  {
   "cell_type": "markdown",
   "metadata": {},
   "source": [
    "As you can see, I’ve written a pretty simple function.  It takes each argument and does exactly its titular operation to each element in the magic square, in the order of the argument operations.  Note: recall that the period before the * and the / indicate that the operation should be done ‘element-wise’.  Look back on Tutorial 1 if you need to remind yourself what element-wise operations are.\n",
    "\n",
    "But what happens when you add 2, subtract 8, multiply by 3, and divide by 8?  What about all those operations but divide by 10 instead?  Or subtract 5?  As you can see, there are many permutations of arguments we can pass to black_box.\n",
    "\n",
    "The easiest way we can organize all of these permutations of parameters is by indexing.  First, let’s make vectors of the values that we want to try out for the add, subtract, multiply, and divide arguments.  Fill in the following vectors with three to six random numbers each.\n"
   ]
  },
  {
   "cell_type": "code",
   "execution_count": null,
   "metadata": {
    "collapsed": false
   },
   "outputs": [],
   "source": [
    "adds = [ ];\n",
    "subs = [ ];\n",
    "mults = [ ];\n",
    "divs = [ ];"
   ]
  },
  {
   "cell_type": "markdown",
   "metadata": {},
   "source": [
    "A for-loop seems like it might be useful so that we don’t have to put each of these values into the function by hand. But how might we use each of these elements from the vectors we’ve created, if the element’s value is not the same as its index?  In other words, the third element of each vector is not necessarily three, so how do we use the correct element?\n",
    "\n",
    "One way to do this is to use a loop variable to index into the vectors we’ve created.  For example:\n"
   ]
  },
  {
   "cell_type": "code",
   "execution_count": null,
   "metadata": {
    "collapsed": false
   },
   "outputs": [],
   "source": [
    "for ii = 1:length(adds)\n",
    "    adds(ii)\n",
    "end"
   ]
  },
  {
   "cell_type": "markdown",
   "metadata": {},
   "source": [
    "In this loop, we use ``i`` from 1 to the length of the ``adds`` vector, to index into ``adds``.  This sends each element in ``adds`` in order to the console.\n",
    "\n",
    "I’ve made nested for-loops for all of our arguments, so we can loop through each permutation of parameter values, and filled in ``black_box`` with our arguments."
   ]
  },
  {
   "cell_type": "code",
   "execution_count": null,
   "metadata": {
    "collapsed": false
   },
   "outputs": [],
   "source": [
    "for ii = 1:length(adds)\n",
    "    for jj = 1:length(subs)\n",
    "        for kk = 1:length(mults)\n",
    "            for ll = 1:length(divs)\n",
    "                black_box(magic_square,adds(ii),subs(jj),mults(kk),divs(ll));\n",
    "            end\n",
    "        end\n",
    "    end\n",
    "end"
   ]
  },
  {
   "cell_type": "markdown",
   "metadata": {},
   "source": [
    "Looks good, it doesn’t throw you any errors!  But we should probably store this somewhere.  Keep in mind that each iteration through a loop gives you only a 3-by-3 matrix of numbers since the output of ``black_box`` is the same size as your first argument.  The easiest way to store your altered magic squares is in a six dimensional array, first in 2-D arrays, or “sheets” as we previously called them, then sorted by the four arguments with each occupying a different dimension.\n",
    "\n",
    "First, you always want to keep the values of the output, that new 3-by-3 matrix, so your first two dimensions will be denoted by colons.  Recall that the colon means that you want Matlab to output all the numbers in that dimension, so showing all of the rows and all of the columns is equivalent to showing the new altered magic square."
   ]
  },
  {
   "cell_type": "markdown",
   "metadata": {
    "collapsed": false
   },
   "source": [
    "``magic_square_perms(:,:,,,,)``"
   ]
  },
  {
   "cell_type": "markdown",
   "metadata": {},
   "source": [
    "This is your 2-D “sheet” of numbers.  Assuming that this iteration is the first, we need a way to record that this particular sheet is a result of the first values of the vectors ``adds``, ``subs``, ``mults``, and ``divs``.  So let’s make four more dimensions that correspond to ``adds``, ``subs``, ``mults``, and ``divs``, and say that this sheet is the result of the first elements from each vector."
   ]
  },
  {
   "cell_type": "markdown",
   "metadata": {
    "collapsed": false
   },
   "source": [
    "``magic_square_perms(:,:,1,1,1,1)``\n"
   ]
  },
  {
   "cell_type": "markdown",
   "metadata": {},
   "source": [
    "Generalizing, since we are using the loop variables to index, we can use the index to record which element relates to which loop, which gives us this (below) to store our permuted magic squares in."
   ]
  },
  {
   "cell_type": "markdown",
   "metadata": {},
   "source": [
    "``magic_square_perms(:,:,ii,jj,kk,ll)``"
   ]
  },
  {
   "cell_type": "markdown",
   "metadata": {
    "collapsed": false
   },
   "source": [
    "Now, try putting the nested for-loops above and the notation for the saved variable that we just worked through all together."
   ]
  },
  {
   "cell_type": "code",
   "execution_count": null,
   "metadata": {
    "collapsed": false
   },
   "outputs": [],
   "source": []
  },
  {
   "cell_type": "markdown",
   "metadata": {},
   "source": [
    "Nice!  Now we have a way to easily find our magic square through any transformation that we put it through.  Try playing around with indexing into your 6-D array to access different permutations of operations you have done to your original magic square."
   ]
  },
  {
   "cell_type": "code",
   "execution_count": null,
   "metadata": {
    "collapsed": true
   },
   "outputs": [],
   "source": []
  },
  {
   "cell_type": "markdown",
   "metadata": {},
   "source": [
    "So, do these altered magic squares still add up to the same number in their rows and columns?  Try summing across all the rows and columns again."
   ]
  },
  {
   "cell_type": "code",
   "execution_count": null,
   "metadata": {
    "collapsed": false
   },
   "outputs": [],
   "source": []
  },
  {
   "cell_type": "markdown",
   "metadata": {},
   "source": [
    "It looks like the rule kind of still holds, but we can reshape the output of sum so that we can see the numbers much more easily.  The ``reshape()`` function in Matlab takes an array, and reshapes it by column to a new size that you specify.  Of course, it must be able to contain the same amount of elements of the original array."
   ]
  },
  {
   "cell_type": "code",
   "execution_count": null,
   "metadata": {
    "collapsed": false
   },
   "outputs": [],
   "source": [
    "size(sum(magic_square_perms,2))"
   ]
  },
  {
   "cell_type": "markdown",
   "metadata": {},
   "source": [
    "By multiplying the dimensions of your sums array (aka the output of the previous line of code), you can get the number of elements in the total array.  Find how many elements are in the output of your sum, then fill in the first number in the square bracket in the following code."
   ]
  },
  {
   "cell_type": "code",
   "execution_count": null,
   "metadata": {
    "collapsed": true
   },
   "outputs": [],
   "source": [
    "\n",
    "reshape(sum(magic_square_perms,2),[ 1])"
   ]
  },
  {
   "cell_type": "markdown",
   "metadata": {},
   "source": [
    "Much nicer to look at quickly!\n",
    "\n",
    "To be truthful, though, ``reshape()`` may not be the easiest or most common way to do this.  Another option is to save the output of sum as a variable, then use ``(:)`` on the saved variable to turn it into a vertical array.  Michele touches upon this idea in Tutorial 4.  You can try it below.\n"
   ]
  },
  {
   "cell_type": "code",
   "execution_count": null,
   "metadata": {
    "collapsed": true
   },
   "outputs": [],
   "source": []
  },
  {
   "cell_type": "markdown",
   "metadata": {},
   "source": [
    "And with that, I’ll leave you to test out the diagonals on your own if you’d like.  This is the end of Tutorial 3—I hope you gained some useful tools for your computational questing, thanks for sticking around, and see you next time!\n",
    "\n",
    "Good luck!"
   ]
  }
 ],
 "metadata": {
  "kernelspec": {
   "display_name": "Matlab",
   "language": "matlab",
   "name": "matlab"
  },
  "language_info": {
   "codemirror_mode": "octave",
   "file_extension": ".m",
   "help_links": [
    {
     "text": "MetaKernel Magics",
     "url": "https://github.com/calysto/metakernel/blob/master/metakernel/magics/README.md"
    }
   ],
   "mimetype": "text/x-matlab",
   "name": "matlab",
   "version": "0.11.0+16.g08f3e88"
  }
 },
 "nbformat": 4,
 "nbformat_minor": 1
}
