{
 "cells": [
  {
   "cell_type": "markdown",
   "metadata": {
    "collapsed": false
   },
   "source": [
    "# CLPS1520 Tutorial 2\n",
    "## Functions and topics covered in this tutorial: \n",
    "### `rand, ones, im2double, rgb2gray, conv2, imfilter, fspecial, filtering, coding conventions, template matching`"
   ]
  },
  {
   "cell_type": "markdown",
   "metadata": {
    "collapsed": false
   },
   "source": [
    "Hey everyone, welcome to Tutorial 2 for CLPS1520: Computation Vision.  I’m Denise, and I’m one of your TAs for this class; in this tutorial, I’ll be going over some Matlab tips and tricks to help you work through your assignment.  Specifically, I’ll be going over creating and using filters on photos in Matlab.\n",
    "\n",
    "In image processing, filtering is a technique traditionally used for modifying or enhancing an image. For example, you can filter an image to emphasize certain features or remove other features. We can create a filter in a number of ways, from handwritten functions to built-in functions in Matlab.  Let’s first try creating a filter from scratch!  \n",
    "\n",
    "Let's try making a 10 by 10 filter where every pixel is randomly designated as 0 or 1.\n",
    "\n",
    "First, fill in ``height`` and ``width`` below.  The ``ones()`` function will create a n by m matrix where every element is a 1 -- this will make it easier to create our filter.\n",
    "\n",
    "Then, we will use a common method to choose randomly between two elements with equal probability.  The for-loops go through each pixel by row and column, then the if statement uses ``rand(1)`` to generate a random number from 0 to 1.  Then we compare the generated number with 0.5, such that if it is less than 0.5, we change the element ``(i,j)`` in the filter to 0."
   ]
  },
  {
   "cell_type": "code",
   "execution_count": null,
   "metadata": {
    "collapsed": true
   },
   "outputs": [],
   "source": [
    "height = ;\n",
    "width = ;\n",
    "filter_rand = ones(height,width);\n",
    "\n",
    "for i = 1:height\n",
    "    for j = 1:width\n",
    "        if rand(1) < 0.5\n",
    "            filter_rand(i,j) = 0;\n",
    "        end\n",
    "    end\n",
    "end"
   ]
  },
  {
   "cell_type": "markdown",
   "metadata": {},
   "source": [
    "Try visualizing the filter below.  Don't forget to set your colormap to gray."
   ]
  },
  {
   "cell_type": "code",
   "execution_count": null,
   "metadata": {
    "collapsed": false
   },
   "outputs": [],
   "source": []
  },
  {
   "cell_type": "markdown",
   "metadata": {},
   "source": [
    "Now let's try making a filter using Matlab's in-built function ``fspecial()``.  A box filter, or an averaging filter, is a relatively simple filter.  It is just a square matrix with the same element in each entry.\n",
    "\n",
    "``fspecial()`` first needs to know what kind of filter you want to create, so your first argument should be ``'average'``.  Then for your second argument, you want to define how large you want your filter to be.  Let's just make it ``[10 10]``."
   ]
  },
  {
   "cell_type": "code",
   "execution_count": null,
   "metadata": {
    "collapsed": true
   },
   "outputs": [],
   "source": [
    "filter_box = fspecial( , )\n"
   ]
  },
  {
   "cell_type": "markdown",
   "metadata": {},
   "source": [
    "Set this aside for now, and let’s try making something a little more interesting using ``fspecial()`` again."
   ]
  },
  {
   "cell_type": "markdown",
   "metadata": {},
   "source": [
    "It is possible to create a Gaussian filter by hand, but ``fspecial()`` can do it for you very easily.  Check out the documentation for ``fspecial()`` to see all other arguments you can pass to this function. Here, we’ll use the ‘gaussian’ filter for this tutorial.\n",
    "\n",
    "We will call ``fspecial()`` with arguments ``‘gaussian’``, ``[10 10]`` for the size, and ``7`` for the sigma, then save the filter Matlab creates for us.\n"
   ]
  },
  {
   "cell_type": "code",
   "execution_count": null,
   "metadata": {
    "collapsed": true
   },
   "outputs": [],
   "source": [
    "filter_gauss = fspecial( , , );"
   ]
  },
  {
   "cell_type": "markdown",
   "metadata": {},
   "source": [
    "So let’s see what these filters do when we use them on images.\n",
    "\n",
    "First, we’ll read in some images, 'solheimajokull.png' and 'thingvellir.png', and save them as something not in Icelandic.  We’ll also convert them to doubles and grayscale using ``im2double()`` and ``rgb2gray()``."
   ]
  },
  {
   "cell_type": "code",
   "execution_count": 8,
   "metadata": {
    "collapsed": false,
    "scrolled": true
   },
   "outputs": [],
   "source": [
    "mountains = imread('solheimajokull.png');\n",
    "mountains = im2double(mountains);\n",
    "mountains = rgb2gray(mountains);\n",
    "valley = imread('thingvellir.png');\n",
    "valley = im2double(valley);\n",
    "valley = rgb2gray(valley);"
   ]
  },
  {
   "cell_type": "markdown",
   "metadata": {},
   "source": [
    "Try using ``imshow()`` on the images above to see what they look like."
   ]
  },
  {
   "cell_type": "code",
   "execution_count": null,
   "metadata": {
    "collapsed": false
   },
   "outputs": [],
   "source": []
  },
  {
   "cell_type": "markdown",
   "metadata": {},
   "source": [
    "Now, we’re ready to apply the filters to our images.  We can use ``imfilter()`` for this, which takes the original image and the filter as arguments.  Fill in the arguments in the following code."
   ]
  },
  {
   "cell_type": "code",
   "execution_count": null,
   "metadata": {
    "collapsed": true
   },
   "outputs": [],
   "source": [
    "convolved_box_valley = imfilter(, );"
   ]
  },
  {
   "cell_type": "markdown",
   "metadata": {},
   "source": [
    "Congrats, you just convolved an image!  But what did it do?  Run the following code to compare the unfiltered photo and the photo filtered with the box filter."
   ]
  },
  {
   "cell_type": "code",
   "execution_count": null,
   "metadata": {
    "collapsed": false
   },
   "outputs": [],
   "source": [
    "figure(1)\n",
    "imagesc(valley);\n",
    "title('original image');\n",
    "colormap gray;\n",
    "\n",
    "figure(2)\n",
    "imagesc(convolved_box_valley);\n",
    "title('convolved image using box filter');\n",
    "colormap gray;"
   ]
  },
  {
   "cell_type": "markdown",
   "metadata": {},
   "source": [
    "Looks like the box filter blurred the image quite a bit.  What about the Gaussian filter?  Try filtering ``valley`` with ``filter_gauss``, the same way the box filter was applied, then image it in the same way as the box filter step above.  Feel free to use the code for visualization from above.\n"
   ]
  },
  {
   "cell_type": "code",
   "execution_count": 22,
   "metadata": {
    "collapsed": false
   },
   "outputs": [],
   "source": [
    "convolved_gaussian_valley = ;\n",
    "\n",
    "figure(1)\n",
    "\n",
    "\n",
    "figure(2)\n",
    "\n"
   ]
  },
  {
   "cell_type": "markdown",
   "metadata": {},
   "source": [
    "Also looks like the image has been blurred.  The reason for that is that the box filter and the Gaussian filters are both local averaging filters, whose output is blurred images.\n",
    "\n",
    "We can also visualize the various filters.  ``imshow()`` or ``imagesc()`` will work, but don’t forget to set the ``colormap`` to gray.  Try visualizing the filter that we generated by hand, the box filter, and the Gaussian filter.\n"
   ]
  },
  {
   "cell_type": "code",
   "execution_count": null,
   "metadata": {
    "collapsed": false
   },
   "outputs": [],
   "source": []
  },
  {
   "cell_type": "markdown",
   "metadata": {},
   "source": [
    "An aside: **coding conventions** for this course.  We won’t be strictly enforcing a certain methodology of naming variables and functions as long as they are legible, sensible, and clear.  However, we would prefer that you not use camelCase for clarity's sake.  You may have used this in a previous class since it is a popular naming convention.  In this class, we use underscores to delimit separate words, and this is what I’m personally used to, but this may differ for everyone.  Of course, your main goal should be completing the assignment and not spending a lot of time thinking about naming conventions.\n",
    "\n",
    "However, you WILL need to comment right below any functions that you write, declaring the data type and size of input and output and briefly describing what they mean.\n",
    "\n",
    "Please ask us if you have any more questions about coding or naming conventions.  Hopefully, we’ll make it clear what we want from you.\n",
    "\n",
    "A note about terminology now: we’ve gone back and forth between filtering and convolving in this assignment, but to make things clear, there are two methods of filtering: **correlation** and **convolution**.  There are two main functions that we use in Matlab to produce filtered outputs: ``imfilter()`` and ``conv2()``.  ``imfilter()`` can do both correlation and convolution, but defaults to correlation.  ``conv2()`` can only do 2D convolution.  The only difference between correlation and convolution is that convolution assumes that the image has been transposed, meaning that the filter was flipped horizontally as well as vertically.  The differences are mostly due to historical reasons--convolution and filtering by correlation were developed in different fields.\n",
    "\n",
    "Back to filtering, ``imfilter()`` does almost the same exact thing as ``conv2()`` but has many more extra features.  ``imfilter()`` can handle different data types, color images (``conv2()`` only takes 2D images), switching between correlation and convolution, and provides a lot more options for deciding what happens at the borders of images.  I would recommend looking up the documentation for ``imfilter()`` for a full list of the arguments available.\n",
    "\n",
    "Let’s try using ``conv2()``.  The argument ``'valid'`` just makes sure that the filter never goes beyond the borders of the original image."
   ]
  },
  {
   "cell_type": "code",
   "execution_count": null,
   "metadata": {
    "collapsed": true
   },
   "outputs": [],
   "source": [
    "figure(1)\n",
    "imagesc(mountains);\n",
    "title('original image')\n",
    "colormap gray\n",
    " \n",
    "filtered_box_mountains = conv2(mountains, filter_box, 'valid');\n",
    "figure(2)\n",
    "imagesc(filtered_box_mountains)\n",
    "title('filtered image using box filter')\n",
    "colormap gray"
   ]
  },
  {
   "cell_type": "markdown",
   "metadata": {},
   "source": [
    "You can see that ``conv2()``, like ``imfilter()``, takes the image to be filtered and the filter as its arguments.  Try using ``conv2()`` as well as ``imfilter()`` on ``valley`` in the same way we just did it above.  Then, visualize your outputs."
   ]
  },
  {
   "cell_type": "code",
   "execution_count": null,
   "metadata": {
    "collapsed": false
   },
   "outputs": [],
   "source": []
  },
  {
   "cell_type": "markdown",
   "metadata": {},
   "source": [
    "You'll see that the results look pretty much the same.  This is because the filters are symmetric. They wont be the same if the filters are not symmetrical as a result of the assumptions of transposing that convolution makes.\n",
    "\n",
    "So, that was a couple of ways to create filters and use them.  There are certain situations where different functions are easier or more effective to use, so I would recommend looking up documentation if you get confused or are unsure about their uses.  As long as you use the functions correctly, we will not care which one you use."
   ]
  },
  {
   "cell_type": "markdown",
   "metadata": {},
   "source": [
    "Next, we’ll try visualizing a battery of filters to get an idea of what different filters are sensitive to and try something called template matching.\n",
    "\n",
    "Try loading in the file 'Federal_Building_Hamilton.jpg', convert it to double, and make it grayscale.  We’ll also load in a pre-made battery of filters."
   ]
  },
  {
   "cell_type": "code",
   "execution_count": null,
   "metadata": {
    "collapsed": false
   },
   "outputs": [],
   "source": [
    "%Load image, convert to double, convert to grayscale below\n",
    "img = ;\n",
    "\n",
    "%Code for loading the filter battery is written for you below\n",
    "load LMFilters;"
   ]
  },
  {
   "cell_type": "markdown",
   "metadata": {},
   "source": [
    "Try visualizing the image using ``imagesc()`` to see what it looks like.  Loading ``LMFilters`` has created a data structure called ``F`` which holds all of the filters.  Try using ``size()`` on F to see what the dimensions are for this array."
   ]
  },
  {
   "cell_type": "code",
   "execution_count": null,
   "metadata": {
    "collapsed": false
   },
   "outputs": [],
   "source": []
  },
  {
   "cell_type": "markdown",
   "metadata": {},
   "source": [
    "The filters are arranged such that the first two dimensions correspond to the length and width of the filter itself, and the third dimension corresponds to the different types of filters.  We will be going over multi-dimensional arrays and data organization much more in depth in Tutorial 3.  For a visual display of what this battery of filters looks like, run the following lines of code:"
   ]
  },
  {
   "cell_type": "code",
   "execution_count": null,
   "metadata": {
    "collapsed": true
   },
   "outputs": [],
   "source": [
    "for ii =1:size(F,3)\n",
    "    subplot(8,6,ii), imagesc(F(:,:,ii));\n",
    "    axis off; axis square; colormap gray\n",
    "end"
   ]
  },
  {
   "cell_type": "markdown",
   "metadata": {},
   "source": [
    "Looking through the filters, we can see that they all look slightly different.  Choose three filters from the filter battery by filling in the third index with different numbers from 1 to 48.  For the first two dimensions, we will use : since we want all values in the row and column of one filter."
   ]
  },
  {
   "cell_type": "code",
   "execution_count": null,
   "metadata": {
    "collapsed": false
   },
   "outputs": [],
   "source": [
    "%Choose numbers for the third dimension of the index\n",
    "f1 = F(:,:, );\n",
    "f2 = F(:,:, );\n",
    "f3 = F(:,:, );"
   ]
  },
  {
   "cell_type": "markdown",
   "metadata": {},
   "source": [
    "Next, filter the image (``img``) with the filters that you have chosen:"
   ]
  },
  {
   "cell_type": "code",
   "execution_count": null,
   "metadata": {
    "collapsed": true
   },
   "outputs": [],
   "source": [
    "%Don't forget about padding using the argument 'valid'!\n",
    "new_img1 = conv2( , , );\n",
    "new_img2 = conv2( , , );\n",
    "new_img3 = conv2( , , );"
   ]
  },
  {
   "cell_type": "markdown",
   "metadata": {},
   "source": [
    "Finally, we will visualize the output of our filtering and compare it with the original image:"
   ]
  },
  {
   "cell_type": "code",
   "execution_count": null,
   "metadata": {
    "collapsed": true
   },
   "outputs": [],
   "source": [
    "subplot(2,2,1)\n",
    "imagesc(img);\n",
    "axis('off'); axis('equal'); axis('tight'); colormap(gray)\n",
    "title('original image')\n",
    " \n",
    "subplot(2,2,2)\n",
    "imagesc(new_img1);\n",
    "axis('off'); axis('equal'); axis('tight'); colormap(gray)\n",
    "title('filtered image 1'); colormap gray;\n",
    " \n",
    "subplot(2,2,3)\n",
    "imagesc(new_img2);\n",
    "axis('off'); axis('equal'); axis('tight'); colormap(gray)\n",
    "title('filtered image 2'); colormap gray;\n",
    " \n",
    "subplot(2,2,4)\n",
    "imagesc(new_img3);\n",
    "axis('off'); axis('equal'); axis('tight'); colormap(gray)\n",
    "title('filtered image 3'); colormap gray;"
   ]
  },
  {
   "cell_type": "markdown",
   "metadata": {},
   "source": [
    "You’ll notice that the filtered images all look slightly different.  The majority of the filters in the battery are what we call edge detectors, meaning that they respond well to edges in various orientations."
   ]
  },
  {
   "cell_type": "markdown",
   "metadata": {},
   "source": [
    "To finish off this tutorial, we will do a quick introduction to **template matching**.  Template matching is a technique in image analysis that we can use in order to identify small part of an image that match a prior template that we have.\n",
    "\n",
    "You will run the entirety of the following code.  The code will work as an interactive demo.  First, Matlab will prompt you to select an area to be the template.  You can do this by clicking and dragging your mouse on the photo to create a blue box around what you want to be your template.  Then, double click on the area of the template.\n",
    "\n",
    "Matlab will show you the template briefly, then show your original image with some areas highlighted in green.  These are the areas that Matlab thinks matches your template the best.  Matlab will also produce another figure that color codes how well every area of your image matches with the template using a red-yellow colormap that encodes for template fit.\n",
    "\n",
    "Feel free to try out different templates and see what sort of results you get.  Maybe some features are easier to match than others?"
   ]
  },
  {
   "cell_type": "code",
   "execution_count": null,
   "metadata": {
    "collapsed": true
   },
   "outputs": [],
   "source": [
    "close all\n",
    "clear all\n",
    " \n",
    "method = 'normxcorr2';\n",
    " \n",
    "img2 = imread('soccer.jpg');\n",
    "img2 = double(img2);\n",
    "% If color image, convert to greyscale\n",
    "if size(img2,3) > 1\n",
    "    img2 = rgb2gray(img2/255);\n",
    "end\n",
    " \n",
    "figure(1)\n",
    "imshow(img2)\n",
    " \n",
    "% interactively\n",
    "[sub_img,rect_img] = imcrop(img2);\n",
    "h = size(sub_img, 1);\n",
    "w = size(sub_img, 2);\n",
    " \n",
    " \n",
    "% display sub images\n",
    "figure(2), imshow(sub_img); axis image;\n",
    " \n",
    "switch method\n",
    "    case 'normxcorr2'\n",
    "        c = normxcorr2(sub_img, img2);\n",
    "        \n",
    "        %crop c to make it the same size as the original image\n",
    "        c = imcrop(c, [floor(w/2)+1 floor(h/2)+1 size(img2,2)-1 size(img2,1)-1]);\n",
    "        \n",
    "    case 'imfilter'\n",
    "        c = imfilter(img2, sub_img, 'symmetric','same');\n",
    "        \n",
    "    case 'conv2'\n",
    "        c = conv2(img2, rot90(sub_img,2),'same');\n",
    "end\n",
    " \n",
    "figure(3), imagesc(c/max(c(:))); axis image; colormap hot; colorbar;\n",
    " \n",
    " \n",
    "% Show results using alpha-mask / assuming result image is same\n",
    "% size as original image\n",
    "green = cat(3, zeros(size(c)), ones(size(c)), zeros(size(c)));\n",
    "figure(1)\n",
    "hold on\n",
    "h = imagesc(green);\n",
    "hold off\n",
    " \n",
    "X = 0.95;\n",
    "s = sort(c(:));\n",
    "set(h, 'AlphaData', c>s(round(length(c(:)).*X))); %% display top X% responses"
   ]
  },
  {
   "cell_type": "markdown",
   "metadata": {},
   "source": [
    "That concludes this tutorial on filtering.  This is one of the most fundamental concepts in computational/computer vision, and I would strongly urge you to look up much of the documentation on your own, just to consolidate your knowledge and clarify the process.  Another resource that you may want to consult is page 87 onwards in \"Matlab for Neuroscientists\" on our OCRA or course e-reserves page (https://library.brown.edu/reserves/pdffiles/49499_matlab_for_neuroscientists_an_introduction_to_scientific_computing_in_matlab.pdf).  And of course, the rest of the course staff and I are here to help too!\n",
    "\n",
    "Good luck!"
   ]
  }
 ],
 "metadata": {
  "kernelspec": {
   "display_name": "Matlab",
   "language": "matlab",
   "name": "matlab"
  },
  "language_info": {
   "codemirror_mode": "octave",
   "file_extension": ".m",
   "help_links": [
    {
     "text": "MetaKernel Magics",
     "url": "https://github.com/calysto/metakernel/blob/master/metakernel/magics/README.md"
    }
   ],
   "mimetype": "text/x-matlab",
   "name": "matlab",
   "version": "0.11.0+13.g4372db2"
  }
 },
 "nbformat": 4,
 "nbformat_minor": 1
}
