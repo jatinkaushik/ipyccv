{
 "cells": [
  {
   "cell_type": "markdown",
   "metadata": {
    "collapsed": false
   },
   "source": [
    "# CLPS1520 Tutorial 1\n",
    "## Functions covered in this tutorial: \n",
    "### `imresize, for/while loops, imshow, imwrite, imread, rgb2gray, mean, min, max, if clauses, indexing`"
   ]
  },
  {
   "cell_type": "markdown",
   "metadata": {
    "collapsed": false
   },
   "source": [
    "Hello, welcome to the first tutorial of the CLPS1520 Computational Vision class. My name is Michele, and I'll be going over some useful Matlab functions today. Unlike most other languages, Matlab is unique in that it has a dedicated function for pretty much anything.  Powerful and complex computations can be done efficiently in short lines if you know what you're doing. The goal of these tutorials is to give you experience with some of the functions that we feel would be useful in completing the modeling assignments, as well as to give you more practice if the language is new for you."
   ]
  },
  {
   "cell_type": "markdown",
   "metadata": {},
   "source": [
    "**A quick note about Matlab syntax:** the semicolon \"`;`\" supresses the output of executable code in Matlab. Try typing in a basic expression such as \"A = 2+2\" and run it in the first cell below. Then, follow it with a \";\" and then run the cell. What changes?"
   ]
  },
  {
   "cell_type": "code",
   "execution_count": null,
   "metadata": {
    "collapsed": false
   },
   "outputs": [],
   "source": []
  },
  {
   "cell_type": "markdown",
   "metadata": {},
   "source": [
    "The second time, the cell does not produce an output because it was supressed by the \"`;`\". This will be useful to use when working with large datasets so that you don’t print the output every time you do a calculation. \n",
    "\n",
    "Feel free to clear the cell above and try out other basic operations including subtraction, multiplication, and division."
   ]
  },
  {
   "cell_type": "markdown",
   "metadata": {},
   "source": [
    "A PDF excerpt of a good Matlab resource can be found on the canvas e-reserves page: https://library.brown.edu/reserves/pdffiles/49499_matlab_for_neuroscientists_an_introduction_to_scientific_computing_in_matlab.pdf. The Exercises section goes over some examples of image manipulation and filtering (which be covered in Tutorial 2).\n",
    "\n",
    "In computational vision, we'll be working often with images, which can be represented in many different ways. Some good references for Matlab documentation on the different types of images can be found here: http://www.mathworks.com/help/matlab/creating_plots/image-types.html, http://www.mathworks.com/help/images/image-types-in-the-toolbox.html#f14-17587. This documentation goes over indexed images, intensity (grayscale), and RGB (truecolor) images. Briefly, indexed images have a data matrix and a colormap matrix that contains floating point numbers between 0 and 1. Each value in the data matrix represents a pixel in the image, and corresponds to a row in the colormap matrix, and each column in that row represents the red, green, or blue components of the pixel. Intensity (grayscale) images have a data matrix that stores values of pixel intensities. RGB (truecolor) images are m x n x 3 matrices that define the red, blue, and green components of each pixel. \n",
    "\n",
    "Today we'll be working with images that have pixel intensities between 0 and 255 (images with 8-bit integers). The numbering convention is from early days of computing, when computers had little memory. Information was stored using 8-bit integers, with 255 as the largest integer. Today, this limit has been surpassed, and so you can store images in a plethora of formats/scales. You can read this Matlab documentation on the supported classes for images: http://www.mathworks.com/help/matlab/creating_plots/working-with-8-bit-and-16-bit-images.html. \n",
    "\n",
    "It goes over 8-bit, and 16-bit images, as well as the necessity of double precision. Some Matlab functions require integer inputs (8-bit and 16-bit), or double precision (Matlab default). You can convert integer inputs to double precision and vice versa by:\n",
    "> `double(image);`\n",
    "\n",
    "> `uint8(image);`\n",
    "\n",
    "> `uint16(image);`\n",
    "\n",
    "Don't worry if you don't understand what `double` does yet, just be aware of it and remember that some functions require it.\n",
    "\n",
    "Going back to human vision, most people see in varying ranges of color, which relies on more stored information per pixel than grayscale. Let's first start with loading a color image into our Matlab workspace. We will use the imread function to do this. Use `imread` on 'circle.png' and save it as the variable `circle`."
   ]
  },
  {
   "cell_type": "code",
   "execution_count": null,
   "metadata": {
    "collapsed": true
   },
   "outputs": [],
   "source": []
  },
  {
   "cell_type": "markdown",
   "metadata": {},
   "source": [
    "First, we can check the dimensions of the image using the function `size`. Call `size` on `circle` in the empty cell below."
   ]
  },
  {
   "cell_type": "code",
   "execution_count": null,
   "metadata": {
    "collapsed": true
   },
   "outputs": [],
   "source": []
  },
  {
   "cell_type": "markdown",
   "metadata": {},
   "source": [
    "Here, you can see that the image is represented as a 3 dimensional array. The first two dimensions, the height and width of the image, are both 250. Now, we see that the third dimension is 3 deep. This third dimension represents the red, green, and blue components (or red, green, and blue channels) of each pixel in the image."
   ]
  },
  {
   "cell_type": "markdown",
   "metadata": {},
   "source": [
    "Now that we have a 3 dimensional matrix in Matlab, we have to know how to access the values we want in that matrix. With an understanding of basic indexing, we know that to get the first upper left pixel in the image, we need to access the first pixel in the first column of the first row of the image.\n",
    "\n",
    "Then, we can use the “:” to mean “get us all the values in this dimension”, and put that in for the third dimension. If we do this, we will get all three values (all R,G,B components) for the first pixel in the image. Do this in the cell below for `circle`."
   ]
  },
  {
   "cell_type": "code",
   "execution_count": null,
   "metadata": {
    "collapsed": true
   },
   "outputs": [],
   "source": []
  },
  {
   "cell_type": "markdown",
   "metadata": {},
   "source": [
    "To get just the G component of the first pixel, we can replace the \":\" with the index of the G channel in the third dimension. Do this in the cell below."
   ]
  },
  {
   "cell_type": "code",
   "execution_count": null,
   "metadata": {
    "collapsed": true
   },
   "outputs": [],
   "source": []
  },
  {
   "cell_type": "markdown",
   "metadata": {},
   "source": [
    "We can also get a range of values, using the \":\" from before, but this time sandwiched between two numbers. Try to get the first 10x10 pixels of the image just from the R channel using range indexing from 1 to 10."
   ]
  },
  {
   "cell_type": "code",
   "execution_count": null,
   "metadata": {
    "collapsed": true
   },
   "outputs": [],
   "source": []
  },
  {
   "cell_type": "markdown",
   "metadata": {},
   "source": [
    "Why don’t we see what the RGB components are for each pixel in the image? \n",
    "\n",
    "First, we should resize the image into something we can more easily see as an array, because your screen (and mine) can’t hold the 250x250 array. We can use the function `imresize` to make it more manageable. \n",
    "\n",
    "In the cell below, resize `circle` to a scale of 0.05 the original, and name the output \"``smallcircle``\". "
   ]
  },
  {
   "cell_type": "code",
   "execution_count": 22,
   "metadata": {
    "collapsed": false
   },
   "outputs": [],
   "source": [
    "___ = imresize(circle, ___);"
   ]
  },
  {
   "cell_type": "markdown",
   "metadata": {},
   "source": [
    "This resized the image to a 13x13 array, a 0.05 scale of what the image originally was. You can save this new image using the `imwrite` function. \n",
    "\n",
    "In the cell below, replace \"variable\" and \"string\" with the correct variable of the image you just created and the name of what you want the image to be saved as. The ``.png`` extension will save it as a PNG file."
   ]
  },
  {
   "cell_type": "code",
   "execution_count": 24,
   "metadata": {
    "collapsed": false
   },
   "outputs": [],
   "source": [
    "imwrite(variable, 'string.png');"
   ]
  },
  {
   "cell_type": "markdown",
   "metadata": {},
   "source": [
    "Check to make sure that your image was saved correctly.\n",
    "\n",
    "Now, look at the the values of `smallcircle` by simply typing it in and pressing CTRL+Enter."
   ]
  },
  {
   "cell_type": "code",
   "execution_count": 25,
   "metadata": {
    "collapsed": true
   },
   "outputs": [],
   "source": []
  },
  {
   "cell_type": "markdown",
   "metadata": {},
   "source": [
    "From this, you can see the individual RGB channels of the image. You can see that all the pixels in the R channel are 255. So, in the image, the R channel is always expressed. For G and B, you can see that they are expressed everywhere at 255, but not in a circular area in the middle of the image. So, finally, we know that the image has a white background (where all three RGB channels are expressed at 255), and a red circle in the middle (where R is still 255, but G and B are 0). Now, you can view the image you just loaded.\n",
    "\n",
    "You can visualize images using two different functions: **`imagesc`** and **`imshow`**. These two functions have slightly different use cases, which you can fully explore by using the doc command in Matlab, as in: \n",
    "> `doc imagesc` or `doc imshow` \n",
    "\n",
    "`imshow` is more specific than `imagesc`, in that it treats the data in the image as a grayscale or 3-channel color image (RGB). `imshow` also has a default dynamic range from 0 to 255 for integer type and 0 to 1 for float type images. This dynamic range can be customized. `imagesc` can be used not only for images, but also for visualizing any 1-D or 2-D matrices. It displays inputs with scaled colors based on a color map. In this situation, we want to see the RGB colors of the image, and so **`imshow`** is sufficient for this.\n",
    "\n",
    "Call `imshow` on `smallcircle`."
   ]
  },
  {
   "cell_type": "code",
   "execution_count": 28,
   "metadata": {
    "collapsed": true
   },
   "outputs": [],
   "source": []
  },
  {
   "cell_type": "markdown",
   "metadata": {},
   "source": [
    "And there, you can see that our deduction was correct! You see a small image of a red circle on a white background. You can also use imshow on the original circle, to see the difference in scale between the two images."
   ]
  },
  {
   "cell_type": "code",
   "execution_count": 29,
   "metadata": {
    "collapsed": true
   },
   "outputs": [],
   "source": []
  },
  {
   "cell_type": "markdown",
   "metadata": {},
   "source": [
    "Now, we are going to try and change the red circle to a blue circle. One way to do is, is to change all the R channel pixels for the circle to 0, keep the G channel the same, and change all the B channel pixels for the circle to 255. We can do this using a for loop. \n",
    "\n",
    "There are many different ways to go through every pixel in the image. Though it’s not the most efficient, we want to introduce the use of loops, so we’re going to use two nested for loops - one for the columns of the image, and one for the rows. Then, we’ll need to go through every pixel in the B channel (third layer of the third dimension), and see where there is a pixel with a value of zero. Then, at the same location in the image, but in the R channel, we will convert that pixel to 0, and change the pixel in the B channel to 255. In summary, we are going to swap the pixel intensities of the R and B channels. The code to do this should look like this:"
   ]
  },
  {
   "cell_type": "code",
   "execution_count": 3,
   "metadata": {
    "collapsed": false
   },
   "outputs": [],
   "source": [
    "bluecircle = circle;\n",
    "for col = 1:250;\n",
    "    for row = 1:250;\n",
    "        if  bluecircle(col,row,3) == 0; % finds Blue dimension pixel not equal 255\n",
    "            bluecircle(col,row,1) = 0; % converts Red dimimension pixel to 0\n",
    "            bluecircle(col,row,3) = 255; % converts Blue dimension pixel to 255\n",
    "        end\n",
    "    end\n",
    "end"
   ]
  },
  {
   "cell_type": "markdown",
   "metadata": {},
   "source": [
    "Notice that in the function, we never changed anything to the G channel of the image, so in the new image, it should stay the same. Now, let’s see the image we edited, using `imshow`."
   ]
  },
  {
   "cell_type": "code",
   "execution_count": null,
   "metadata": {
    "collapsed": true
   },
   "outputs": [],
   "source": []
  },
  {
   "cell_type": "markdown",
   "metadata": {},
   "source": [
    "Save the image as `bluecircle` using `imwrite`."
   ]
  },
  {
   "cell_type": "code",
   "execution_count": null,
   "metadata": {
    "collapsed": true
   },
   "outputs": [],
   "source": []
  },
  {
   "cell_type": "markdown",
   "metadata": {},
   "source": [
    "Now that you've seen the code to convert the red circle to a blue circle, try to modify the code to convert the circle into a green circle. You can start with either the red or blue circle for the conversion. Write and execute in the cell below."
   ]
  },
  {
   "cell_type": "code",
   "execution_count": null,
   "metadata": {
    "collapsed": true
   },
   "outputs": [],
   "source": []
  },
  {
   "cell_type": "markdown",
   "metadata": {},
   "source": [
    "Another (simpler) way to get the result above would have been to simple swap the channels in the image. You can try this above by redefining a new variable that has a swapped version of the channels in `bluecircle`. Play around and see if you can create a purple or yellow circle."
   ]
  },
  {
   "cell_type": "markdown",
   "metadata": {},
   "source": [
    "We can also convert color images to grayscale images using the **`rgb2gray`** function. Call `rgb2gray` on \"bluecircle\", save it as \"graycircle\" and then visualize the gray circle using `imshow`."
   ]
  },
  {
   "cell_type": "code",
   "execution_count": null,
   "metadata": {
    "collapsed": true
   },
   "outputs": [],
   "source": []
  },
  {
   "cell_type": "markdown",
   "metadata": {},
   "source": [
    "Now that we have a grayscale image, we can use the functions: **`mean, min, max`** to visualize the distribution of pixel intensities throughout the image.\n",
    "\n",
    "Call the function `max` on \"graycircle\" in the cell below."
   ]
  },
  {
   "cell_type": "code",
   "execution_count": null,
   "metadata": {
    "collapsed": true
   },
   "outputs": [],
   "source": []
  },
  {
   "cell_type": "markdown",
   "metadata": {},
   "source": [
    "This returns the maximum value of each column (255). \n",
    "\n",
    "Call the function `min` on \"graycircle\" in the cell below."
   ]
  },
  {
   "cell_type": "code",
   "execution_count": null,
   "metadata": {
    "collapsed": true
   },
   "outputs": [],
   "source": []
  },
  {
   "cell_type": "markdown",
   "metadata": {},
   "source": [
    "This returns 29 for the columns that go across the circle, because `graycircle` has a pixel intensity of 29.\n",
    "\n",
    "Finally, we can see the mean value for the columns of the `graycircle` image. Call the function `mean` on \"graycircle\" in the cell below."
   ]
  },
  {
   "cell_type": "code",
   "execution_count": null,
   "metadata": {
    "collapsed": true
   },
   "outputs": [],
   "source": []
  },
  {
   "cell_type": "markdown",
   "metadata": {},
   "source": [
    "This returns the mean of the values for each column in the image. For max and min, you can also set which dimension you would like it to calculate the values for. To get the max pixel intensity of each row, we can add [], 2 as parameters to `max`."
   ]
  },
  {
   "cell_type": "code",
   "execution_count": null,
   "metadata": {
    "collapsed": true
   },
   "outputs": [],
   "source": [
    "___(___, [], 2)"
   ]
  },
  {
   "cell_type": "markdown",
   "metadata": {},
   "source": [
    "This vertical vector of the maximum pixel intensities in each row of the image. To choose which dimension you want to get the mean values of, you just need to add 2 as an input to `mean`. Call `mean` on \"graycircle\",2 below."
   ]
  },
  {
   "cell_type": "code",
   "execution_count": null,
   "metadata": {
    "collapsed": true
   },
   "outputs": [],
   "source": []
  },
  {
   "cell_type": "markdown",
   "metadata": {},
   "source": [
    "This returns a column vector of the mean pixel intensities of each row of the image. \n",
    "\n",
    "A useful note: to calculate the mean/max/min of the entire image, you write:\n",
    "> `mean/max/min(graycircle(:))`"
   ]
  },
  {
   "cell_type": "markdown",
   "metadata": {},
   "source": [
    "The `graycircle(:)` part of the code reshapes the matrix into a 1 dimensional vector that the function (mean/max/min) can be used on, resulting in a single value rather than an array of values. \n",
    "\n",
    "A final important note is that while for loops are important and powerful, you can clean up code (making it easier to read) using element-wise operations and range-indexing based operations. For example, with pseudo code:\n",
    "> `A.*B`\n",
    "\n",
    "Instead of\n",
    "> `for every element in A:\n",
    "    multiply element in A with element in B\n",
    "end`\n",
    "\n",
    "Now compare the two methods for yourself:"
   ]
  },
  {
   "cell_type": "code",
   "execution_count": 8,
   "metadata": {
    "collapsed": false
   },
   "outputs": [],
   "source": [
    "A = ones(3,1)*3\n",
    "B = ones(3,1)*2"
   ]
  },
  {
   "cell_type": "code",
   "execution_count": 9,
   "metadata": {
    "collapsed": false
   },
   "outputs": [],
   "source": [
    "C = A.*B"
   ]
  },
  {
   "cell_type": "markdown",
   "metadata": {
    "collapsed": true
   },
   "source": [
    "Try to write a for loop in the cell below that does exactly what the element-wise product `\".*\"` does above."
   ]
  },
  {
   "cell_type": "code",
   "execution_count": null,
   "metadata": {
    "collapsed": true
   },
   "outputs": [],
   "source": []
  },
  {
   "cell_type": "markdown",
   "metadata": {},
   "source": [
    "In the end, both scripts have the same output, but one is much easier to read than the other, and saves a lot of time typing!\n",
    "\n",
    "And this concludes your first tutorial in CLPS1520! Good luck with your assignment, bye until next time!"
   ]
  }
 ],
 "metadata": {
  "kernelspec": {
   "display_name": "Matlab",
   "language": "matlab",
   "name": "matlab"
  },
  "language_info": {
   "codemirror_mode": "octave",
   "file_extension": ".m",
   "help_links": [
    {
     "text": "MetaKernel Magics",
     "url": "https://github.com/calysto/metakernel/blob/master/metakernel/magics/README.md"
    }
   ],
   "mimetype": "text/x-matlab",
   "name": "matlab",
   "version": "0.11.0+12.gb9493db"
  }
 },
 "nbformat": 4,
 "nbformat_minor": 1
}
