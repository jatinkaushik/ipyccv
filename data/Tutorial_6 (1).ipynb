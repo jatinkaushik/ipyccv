{
 "cells": [
  {
   "cell_type": "markdown",
   "metadata": {},
   "source": [
    "# CLPS1520 Tutorial 6\n",
    "## Functions covered in this tutorial: \n",
    "### `imtranslate, eye, stereoAnaglyph`\n",
    "## Concepts covered in this tutorial: \n",
    "### Shifting images"
   ]
  },
  {
   "cell_type": "markdown",
   "metadata": {},
   "source": [
    "Hello everyone, and welcome to Tutorial 6! First we'll start with some image manipulation, and then go into creating stereo images! Let's begin.\n",
    "___\n",
    "\n",
    "Load the image '`rice.png`'. This is another of Matlab's built-in demo images, so you can just reference it as given in this tutorial. Use the function `imtranslate` to slide the image down to the right by 10 rows and 10 columns. `imtranslate` takes in (img, [rows cols]). Then, visualize the result. What did `imtranslate` do?"
   ]
  },
  {
   "cell_type": "code",
   "execution_count": null,
   "metadata": {
    "collapsed": false
   },
   "outputs": [],
   "source": []
  },
  {
   "cell_type": "markdown",
   "metadata": {
    "collapsed": false
   },
   "source": [
    "Now check the size of the image. Did the size change from the original image 'rice.png'? If not, think about what `imtranslate` did. Try playing around with greater translations, you can even try negative values if you'd like."
   ]
  },
  {
   "cell_type": "code",
   "execution_count": null,
   "metadata": {
    "collapsed": false
   },
   "outputs": [],
   "source": []
  },
  {
   "cell_type": "markdown",
   "metadata": {},
   "source": [
    "Instead of simply translating an image, now we're going to shift an image but then pad the cropped part of the image to the negative space that is left behind. Think of it like wrapping the bottom and right edges of the rice image back to the black areas in the example above. \n",
    "\n",
    "To do this, we'll need help from another function. The function `eye` takes in a number n and returns an identity matrix of size `n x n`. An identity matrix is a matrix of zeros, with ones down the diagonal. To visualize one, type `eye(5)` in the cell below. Identity matrices are used often in linear algebra for their magical properties in matrix multiplication. Today we will use them to reorganize the rows of the image we would like to shift.\n",
    "\n",
    "Now, create an identity matrix with `eye` with one of the dimensions of 'rice' as the input. (It doesn't matter which you use, height or width, because they are the same for 'rice').\n"
   ]
  },
  {
   "cell_type": "code",
   "execution_count": null,
   "metadata": {
    "collapsed": true
   },
   "outputs": [],
   "source": []
  },
  {
   "cell_type": "markdown",
   "metadata": {},
   "source": [
    "Crop the first 50 rows of the identity matrix you created to the bottom  of the identity matrix. An example to visualize this:\n",
    "\n",
    "`[1     0     0]           [0     1     0]`\n",
    "\n",
    "`[0     1     0]  ---->    [0     0     1]`\n",
    "\n",
    "`[0     0     1]           [1     0     0]`\n",
    "\n",
    "In the example, a 3 x 3 identity matrix has its first row now on it's\n",
    "bottom. A useful function here may be `vertcat`, a vertical variant of\n",
    "the function we previously covered, `cat`."
   ]
  },
  {
   "cell_type": "code",
   "execution_count": null,
   "metadata": {
    "collapsed": false
   },
   "outputs": [],
   "source": []
  },
  {
   "cell_type": "markdown",
   "metadata": {},
   "source": [
    "After creating this shifted identity matrix, multiply the matrix with your image (`eye*img`) and then view the result. Did you shift correctly? You might notice that what you did, by concatenating a part of the image  to the rest of it in a different place, you could also directly do to the image without multiplying with an identity. This is completely true and you could have done this. However, a neat trick from linear algebra allows us utilize the identity matrix for more than just shifting the image up or down. Try changing the order of the multiplication to (`img*eye`). What did the multiplication do? \n",
    "\n",
    "---\n",
    "\n",
    "Finally, we'll be going over the function `stereoAnaglyph` and how to use it. First, let's load two images. Load the right and left '`lamp`' images, 'lampL.jpg' and 'lampR.jpg'."
   ]
  },
  {
   "cell_type": "code",
   "execution_count": null,
   "metadata": {
    "collapsed": true
   },
   "outputs": [],
   "source": []
  },
  {
   "cell_type": "markdown",
   "metadata": {},
   "source": [
    "Now, run stereoAnaglyph on the two images, and then visualize the result."
   ]
  },
  {
   "cell_type": "code",
   "execution_count": null,
   "metadata": {
    "collapsed": false
   },
   "outputs": [],
   "source": []
  },
  {
   "cell_type": "markdown",
   "metadata": {},
   "source": [
    "Congratulations! You now have stereo images. Hopefully these functions will be useful in your completion of Assignment 4."
   ]
  }
 ],
 "metadata": {
  "kernelspec": {
   "display_name": "Matlab",
   "language": "matlab",
   "name": "matlab"
  },
  "language_info": {
   "codemirror_mode": "octave",
   "file_extension": ".m",
   "help_links": [
    {
     "text": "MetaKernel Magics",
     "url": "https://github.com/calysto/metakernel/blob/master/metakernel/magics/README.md"
    }
   ],
   "mimetype": "text/x-matlab",
   "name": "matlab",
   "version": "0.11.0+16.gfc87d65"
  }
 },
 "nbformat": 4,
 "nbformat_minor": 1
}
