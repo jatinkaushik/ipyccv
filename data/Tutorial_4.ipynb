{
 "cells": [
  {
   "cell_type": "markdown",
   "metadata": {},
   "source": [
    "# CLPS1520 Tutorial 4\n",
    "## Functions covered in this tutorial: \n",
    "### `padarray, cat, repmat, imrotate, sind, cosd, tand, asind, acosd, atand, histogram, histfit`\n",
    "## Concepts covered in this tutorial:\n",
    "### differential opterators (gradient filters)"
   ]
  },
  {
   "cell_type": "markdown",
   "metadata": {},
   "source": [
    "Hello, welcome to the fourth tutorial of the CLPS1520 Computational Vision class. My name is Michele, and I'll be going over some useful Matlab functions today. \n",
    "\n",
    "First, let’s start with a simple 2-dimensional array. \n",
    "> `A = [1,2;3,4]`\n",
    "\n",
    "Let’s say we wanted to use this matrix as an input for something that only took 6x6 arrays as input. To preserve our data, we can simply pad zeros symmetrically around it to reshape it from 2x2 to 6x6. \n",
    "\n",
    "We can do this by using the function **`padarray`** which takes in `(array, [num num], padval)`. The `[num num]` is the padsize. For example, a padsize of `[1 5]` would add 1 element of padding on the first dimension, and 5 elements of padding on the second. The third parameter, `padval`, specifies the value with which to pad the input array. If you do not input a value for `padval`, `padarray` will default to padding wtih 0.. \n",
    "\n",
    "In the cell below, create an array padd_A that is array A padded with two zeros in both dimensions. Then visualize the padded array. "
   ]
  },
  {
   "cell_type": "code",
   "execution_count": null,
   "metadata": {
    "collapsed": true
   },
   "outputs": [],
   "source": [
    "A = [1,2;3,4];\n",
    "\n",
    "\n"
   ]
  },
  {
   "cell_type": "markdown",
   "metadata": {},
   "source": [
    "As you can see, two zeros have been padded symmetrically to every dimension of the original array. Now, if you think back to images presented as an array of pixel intensities, you could add a black or white border to a grayscale or RGB image using `padarray` correctly.\n",
    "\n",
    "You can even pad an array in multiple dimensions. Consider this when working with RGB images or videos. "
   ]
  },
  {
   "cell_type": "markdown",
   "metadata": {},
   "source": [
    "Now we are going to attempt to concatenate two arrays using the **`cat`** function. `cat` takes in `(dim, array, array)`, where dim is the dimension along which you would like to concatenate the two following arrays. There is no limit to the number of arrays you can concatenate, so an input like `cat(dim, A1, A2, A3, A4, ...)` is still valid. \n",
    "\n",
    "Make another array C that is the concatenation of arrays A and B along the 3rd dimension. Then visualize array C."
   ]
  },
  {
   "cell_type": "code",
   "execution_count": null,
   "metadata": {
    "collapsed": true
   },
   "outputs": [],
   "source": [
    "B = [5,6;7,8];\n",
    "\n"
   ]
  },
  {
   "cell_type": "markdown",
   "metadata": {},
   "source": [
    "Here you can see that `cat` essentially 'sandwiched' arrays A and B together. If you would like to quickly concatenate in the 1st or 2nd dimension, you can also use the functions `vertcat` and `horzcat` respectively. These functions work like `cat`, only they do not take in a dimension parameter. Play with these two functions on the arrays you just created, below. "
   ]
  },
  {
   "cell_type": "code",
   "execution_count": null,
   "metadata": {
    "collapsed": true
   },
   "outputs": [],
   "source": []
  },
  {
   "cell_type": "markdown",
   "metadata": {},
   "source": [
    "Now that we've worked with padding in 2 dimensions, let's try adding padding to the 3 dimensional array C that we created before. \n",
    "\n",
    "Create a new array D that takes in array C and pads it with three zeros."
   ]
  },
  {
   "cell_type": "code",
   "execution_count": null,
   "metadata": {
    "collapsed": true
   },
   "outputs": [],
   "source": []
  },
  {
   "cell_type": "markdown",
   "metadata": {},
   "source": [
    "Array D should be an 8x8x2 array, with three zeros padded to each 'slice' of the concatenated array (or only in the 2nd dimension).\n",
    "\n",
    "Most of the tutorial above was taken from the Matlab help documentation for `padarray`, where you can go for more in-depth explanantions for other features of `padarray` that we will not go into in this class. \n",
    "\n",
    "Now that we have learned how to pad arrays, we’re going to move onto repeating copies of arrays. We can do this using the **`repmat`** function, which takes in an array and parameters for repetition. Using `repmat`, you can copy an array and append it to the original array.\n",
    "\n",
    "In the cell below create a new array that takes in array A and creates a 4x4 matrix that contains 4 copies of array A."
   ]
  },
  {
   "cell_type": "code",
   "execution_count": null,
   "metadata": {
    "collapsed": true
   },
   "outputs": [],
   "source": []
  },
  {
   "cell_type": "markdown",
   "metadata": {},
   "source": [
    "As you can see, by just passing in an array and a number (n), repmat will return the array containing n copies of the array in both row and column dimensions with the size being `size(array)*n`. In this case, the `size(A) = 2x2` and `size(A)*2 = 4x4`, which is the size of the array we’re left with, with 2 copies of A in the rows and 2 copies of A in the columns.\n",
    "\n",
    "You can be more specific with the size of the final array by passing in specific dimensions, such as `[2 3 2]`.\n",
    "\n",
    "Create another array with A and these specifications and visualize it in the cell below."
   ]
  },
  {
   "cell_type": "code",
   "execution_count": null,
   "metadata": {
    "collapsed": true
   },
   "outputs": [],
   "source": []
  },
  {
   "cell_type": "markdown",
   "metadata": {},
   "source": [
    "Here, `[2 3 2]` indicates to copy A twice in rows, three times in columns, with two layers in the third dimension.\n",
    "\n",
    "\n",
    "\n",
    "Now that you know how to use `padarray` and `repmat`, why don’t we try to use them on a simple image? \n",
    "\n",
    "Let’s first try to use `padarray` on the ‘cameraman.tif’ image. Load the image, call `im2double` on it, and then resize it to half its original size. \n",
    "\n",
    "**Note:** You can just reference `‘cameraman.tif’` because it is one of Matlab’s builtin demo images. More demo images can be found in the `‘\\toolbox\\images\\imdemos’` directory."
   ]
  },
  {
   "cell_type": "code",
   "execution_count": null,
   "metadata": {
    "collapsed": true
   },
   "outputs": [],
   "source": []
  },
  {
   "cell_type": "markdown",
   "metadata": {},
   "source": [
    "Now, create a new image, `pad_cameraman`, that is the original cameraman picture, with 10 pixel width padding around the image.\n",
    "\n",
    "Visualize the image. What color is the padding?"
   ]
  },
  {
   "cell_type": "code",
   "execution_count": null,
   "metadata": {
    "collapsed": true
   },
   "outputs": [],
   "source": []
  },
  {
   "cell_type": "markdown",
   "metadata": {},
   "source": [
    "Now, let’s repeat the image twice, so that one shows right on top of the other. Do this with either the padded image, or the original."
   ]
  },
  {
   "cell_type": "code",
   "execution_count": null,
   "metadata": {
    "collapsed": true
   },
   "outputs": [],
   "source": []
  },
  {
   "cell_type": "markdown",
   "metadata": {},
   "source": [
    "Now that we've covered some array manipulation techniques, let's go over some interesting filters. \n",
    "\n",
    "In class, you learned about differential operators (also known as gradient filters). In summary, an image gradient shows the direction of pixel intensity or color in an image. This information is often used for edge detection in image, which can be show horizontal or vertical edges. \n",
    "\n",
    "Let's try to implement a simple filter to extract horizontal edge information. In the cell below, use `imfilter` to apply the `h` filter on `'cameraman.tif'`. In this case, pass in the parameter `'replicate'` as the third and final parameter to `imfilter`. `'replicate'` will replicate the border of the original image after filtering, by having border pixels take on the value of nearby pixels."
   ]
  },
  {
   "cell_type": "code",
   "execution_count": null,
   "metadata": {
    "collapsed": true
   },
   "outputs": [],
   "source": [
    "h = [1; -1]\n",
    "\n",
    "% Filter the image\n",
    "\n",
    "\n",
    "% Visualize the image\n",
    "imagesc(filtered_img);\n",
    "axis('off');\n",
    "axis('equal');\n",
    "axis('tight');\n",
    "colormap(gray)"
   ]
  },
  {
   "cell_type": "markdown",
   "metadata": {},
   "source": [
    "Now, visualize the filter (h) itself. Can you explain why the filter works?"
   ]
  },
  {
   "cell_type": "code",
   "execution_count": null,
   "metadata": {
    "collapsed": true
   },
   "outputs": [],
   "source": []
  },
  {
   "cell_type": "markdown",
   "metadata": {},
   "source": [
    "Change the filter (h) to `[1, -1]` and rerun image filtering cell. The result should show vertical edge detection. \n",
    "\n",
    "Some really good resources for further information can be found below.\n",
    "\n",
    "> Documentation for a useful function called `imgradient` can be found here https://www.mathworks.com/help/images/ref/imgradient.html. `imgradient` has many other features, as well as the ability to work with GPUarrays.\n",
    "\n",
    "> Read more about image gradients and edge detectors here: https://en.wikipedia.org/wiki/Image_gradient and here: https://en.wikipedia.org/wiki/Canny_edge_detector"
   ]
  },
  {
   "cell_type": "markdown",
   "metadata": {},
   "source": [
    "Sometimes, it's good to remember that Matlab is also a really functional calculator. Built-in functions like `sind, cosd, tand, asind, acosd,` and  `atand` make it easy to get the sin, cos, or tan of a value in degrees. \n",
    "\n",
    "Call `sind` on 180 below."
   ]
  },
  {
   "cell_type": "code",
   "execution_count": null,
   "metadata": {
    "collapsed": true
   },
   "outputs": [],
   "source": []
  },
  {
   "cell_type": "markdown",
   "metadata": {},
   "source": [
    "Now call `sind` on the array `orts = [0, 45, 90, 135, 180, 225, 270, 315]`. "
   ]
  },
  {
   "cell_type": "code",
   "execution_count": null,
   "metadata": {
    "collapsed": true
   },
   "outputs": [],
   "source": []
  },
  {
   "cell_type": "markdown",
   "metadata": {},
   "source": [
    "Play around with using the other trig functions above. `asind, acosd,` and `atand` are just the inverse functions of `sind, cosd,` and `tand`. To get outputs in radians, simply remove the 'd' in the function name:\n",
    "\n",
    "> `sin, cos, tan, asin, asoc, atan`"
   ]
  },
  {
   "cell_type": "markdown",
   "metadata": {},
   "source": [
    "For our final function, we'll go over `histogram` and `histfit`. \n",
    "\n",
    "Matlab originally supported `hist` in versions prior to release Matlab 2014b. However it is no longer recommended for use. \n",
    "\n",
    "Instead, we will go over `histogram`. For more information on why Matlab recommends the change, read this: https://www.mathworks.com/help/matlab/creating_plots/replace-discouraged-instances-of-hist-and-histc.html.\n",
    "\n",
    "Call `histogram` on `cameraman.tif` in the cell below and call it variable `camhist`. You can use `(:)` to turn the entire image into a vertical array.  \n"
   ]
  },
  {
   "cell_type": "code",
   "execution_count": null,
   "metadata": {
    "collapsed": true
   },
   "outputs": [],
   "source": []
  },
  {
   "cell_type": "markdown",
   "metadata": {},
   "source": [
    "As you can see, without any other input parameters, `histogram` automatically chooses bins of uniform width to represent the data. You can specify parameters such as bin number, edges, as well as whether or not to bin by categories. Look at the Matlab documentation for more detailed parameter specifics.\n",
    "\n",
    "`camhist` is a Histogram object, with the following properties that can be inspected and modified: Data, Values, NumBins, BinEdges, BinWidth, BinLimits, Normalization, FaceColor, EdgeColor. Inspect these properties by calling `camhist.Data` or `camhist.Values` above. (These two properties need to be called in the same cell where `camhist` is created)."
   ]
  },
  {
   "cell_type": "markdown",
   "metadata": {},
   "source": [
    "Besides creating a histogram of data, you can also use `histfit` to fit a histogram as well as a specific distribution to the data. The second parameter to `histfit` is `nbins`, which specifies the number of bins to use. With no parameter for distribution, `histfit` will default to a normal distribution fit to the data.\n",
    "\n",
    "`histfit` creates a 2x1 graphics array containing the properties `Bar` and `Line`. Both `Bar` and `Line` also have properties that you can inspect using the syntax shown for `histogram`. For example, if your code is `result = histfit(img(:))`, then `result(1)` will show `Bar` properties and `result(2)` will show `Line` properties.\n",
    "\n",
    "In the cell below, call `histfit` on `cameraman.tif`. This will default to a `'normal'` distribution fit."
   ]
  },
  {
   "cell_type": "code",
   "execution_count": null,
   "metadata": {
    "collapsed": true
   },
   "outputs": [],
   "source": []
  },
  {
   "cell_type": "markdown",
   "metadata": {},
   "source": [
    "What do you think about the fit? Can you account for why there was such a large peak at 0 as well as 0.6?\n",
    "\n",
    "Play around with different bin sizes and different fits. You can find an exhaustive list of options in the documentation: http://www.mathworks.com/help/stats/histfit.html.\n",
    "\n",
    "This concludes Tutorial 4. Hopefuly you've learned more about Matlab builtin functions that will help with your assignment!"
   ]
  }
 ],
 "metadata": {
  "kernelspec": {
   "display_name": "Matlab",
   "language": "matlab",
   "name": "matlab"
  },
  "language_info": {
   "codemirror_mode": "octave",
   "file_extension": ".m",
   "help_links": [
    {
     "text": "MetaKernel Magics",
     "url": "https://github.com/calysto/metakernel/blob/master/metakernel/magics/README.md"
    }
   ],
   "mimetype": "text/x-matlab",
   "name": "matlab",
   "version": "0.11.0+16.g08f3e88"
  }
 },
 "nbformat": 4,
 "nbformat_minor": 1
}
